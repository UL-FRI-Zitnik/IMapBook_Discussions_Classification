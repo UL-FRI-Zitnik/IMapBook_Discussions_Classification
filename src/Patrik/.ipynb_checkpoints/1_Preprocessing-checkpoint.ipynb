{
 "cells": [
  {
   "cell_type": "markdown",
   "metadata": {},
   "source": [
    "# Preprocessing\n",
    "This file contains the preprocessing steps taken for the texts and the context scripts.\n",
    "tool (citation)\n",
    "@misc{11356/1286,\n",
    " title = {The {CLASSLA}-{StanfordNLP} model for lemmatisation of standard Slovenian 1.1},\n",
    " author = {Ljube{\\v s}i{\\'c}, Nikola},\n",
    " url = {http://hdl.handle.net/11356/1286},\n",
    " note = {Slovenian language resource repository {CLARIN}.{SI}},\n",
    " copyright = {Creative Commons - Attribution-{ShareAlike} 4.0 International ({CC} {BY}-{SA} 4.0)},\n",
    " year = {2020} }"
   ]
  },
  {
   "cell_type": "markdown",
   "metadata": {},
   "source": [
    "## Preprocessing the context files:"
   ]
  },
  {
   "cell_type": "code",
   "execution_count": 4,
   "metadata": {},
   "outputs": [],
   "source": [
    "from nltk import Text\n",
    "\n",
    "# import text:\n",
    "file1 = Text('../../data/ButalskipolicajInCefizelj_ID_8.txt')\n",
    "file2 = Text('../../data/Premraženo Sonce Slovene only _ID_15.txt')\n",
    "file3 = Text('../../data/Veveriček posebne sorte Special Squirrel_ID_12.txt')\n",
    "\n",
    "# tokenize text:\n"
   ]
  },
  {
   "cell_type": "code",
   "execution_count": 5,
   "metadata": {},
   "outputs": [
    {
     "data": {
      "text/plain": [
       "<Text: . . / . . / d a...>"
      ]
     },
     "execution_count": 5,
     "metadata": {},
     "output_type": "execute_result"
    }
   ],
   "source": []
  },
  {
   "cell_type": "code",
   "execution_count": 72,
   "metadata": {
    "scrolled": true
   },
   "outputs": [],
   "source": [
    "import pandas as pd\n",
    "import numpy as np\n",
    "\n",
    "# data = pd.read_excel('../../data/imapBook/AllDiscussionDataCODED_USE_THIS_14Feb2020_MH.xls')\n",
    "# data = data.dropna(axis= 1, how = 'all')\n",
    "# data = data.dropna(axis= 0, how = 'all')\n",
    "# print(np.array(data.columns).reshape(-1,1))\n",
    "\n",
    "# grouping the messages by topic\n",
    "g_data = data.loc[data['Book ID'].isin([8.0, 12.0, 15.0])].groupby('Book ID')\n",
    "g_messages = g_data[['Topic', 'Message', 'Book relevance']]\n",
    "book1 = g_messages.get_group(8.0)\n",
    "book2 =  g_messages.get_group(12.0)\n",
    "book3 =  g_messages.get_group(15.0)\n",
    "\n",
    "print(len(book1),\n",
    "      len(book2),\n",
    "      len(book3))\n",
    "\n",
    "# g_messages = g_messages.groups[g_messages.groups in [2.0 ,8.0, 12.0]]\n",
    "# data['Book ID'].unique()"
   ]
  },
  {
   "cell_type": "code",
   "execution_count": 76,
   "metadata": {},
   "outputs": [
    {
     "name": "stdout",
     "output_type": "stream",
     "text": [
      "471 2287 295\n"
     ]
    }
   ],
   "source": [
    "\n"
   ]
  }
 ],
 "metadata": {
  "kernelspec": {
   "display_name": "Python [conda env:NLP] *",
   "language": "python",
   "name": "conda-env-NLP-py"
  },
  "language_info": {
   "codemirror_mode": {
    "name": "ipython",
    "version": 3
   },
   "file_extension": ".py",
   "mimetype": "text/x-python",
   "name": "python",
   "nbconvert_exporter": "python",
   "pygments_lexer": "ipython3",
   "version": "3.7.7"
  }
 },
 "nbformat": 4,
 "nbformat_minor": 4
}
