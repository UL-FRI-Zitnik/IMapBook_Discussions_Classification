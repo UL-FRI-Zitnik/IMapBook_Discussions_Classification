{
 "cells": [
  {
   "cell_type": "markdown",
   "metadata": {},
   "source": [
    "# Preprocessing\n",
    "This file contains the preprocessing steps taken for the texts and the context scripts.\n",
    "tool (citation)\n",
    "@misc{11356/1286,\n",
    " title = {The {CLASSLA}-{StanfordNLP} model for lemmatisation of standard Slovenian 1.1},\n",
    " author = {Ljube{\\v s}i{\\'c}, Nikola},\n",
    " url = {http://hdl.handle.net/11356/1286},\n",
    " note = {Slovenian language resource repository {CLARIN}.{SI}},\n",
    " copyright = {Creative Commons - Attribution-{ShareAlike} 4.0 International ({CC} {BY}-{SA} 4.0)},\n",
    " year = {2020} }"
   ]
  },
  {
   "cell_type": "markdown",
   "metadata": {},
   "source": [
    "## Preprocessing the context files:"
   ]
  },
  {
   "cell_type": "code",
   "execution_count": 4,
   "metadata": {},
   "outputs": [],
   "source": [
    "from nltk import Text\n",
    "\n",
    "# import text:\n",
    "file1 = Text('../../data/ButalskipolicajInCefizelj_ID_8.txt')\n",
    "file2 = Text('../../data/Premraženo Sonce Slovene only _ID_15.txt')\n",
    "file3 = Text('../../data/Veveriček posebne sorte Special Squirrel_ID_12.txt')\n",
    "\n",
    "# tokenize text:\n"
   ]
  },
  {
   "cell_type": "code",
   "execution_count": 5,
   "metadata": {},
   "outputs": [
    {
     "data": {
      "text/plain": [
       "<Text: . . / . . / d a...>"
      ]
     },
     "execution_count": 5,
     "metadata": {},
     "output_type": "execute_result"
    }
   ],
   "source": [
    "from "
   ]
  }
 ],
 "metadata": {
  "kernelspec": {
   "display_name": "Python [conda env:NLP] *",
   "language": "python",
   "name": "conda-env-NLP-py"
  },
  "language_info": {
   "codemirror_mode": {
    "name": "ipython",
    "version": 3
   },
   "file_extension": ".py",
   "mimetype": "text/x-python",
   "name": "python",
   "nbconvert_exporter": "python",
   "pygments_lexer": "ipython3",
   "version": "3.7.7"
  }
 },
 "nbformat": 4,
 "nbformat_minor": 4
}
