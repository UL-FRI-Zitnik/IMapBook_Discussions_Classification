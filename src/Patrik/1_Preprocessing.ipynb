{
 "cells": [
  {
   "cell_type": "markdown",
   "metadata": {},
   "source": [
    "# Preprocessing\n",
    "This file contains the preprocessing steps taken for the texts and the context scripts.\n",
    "tool (citation)\n",
    "@misc{11356/1286,\n",
    " title = {The {CLASSLA}-{StanfordNLP} model for lemmatisation of standard Slovenian 1.1},\n",
    " author = {Ljube{\\v s}i{\\'c}, Nikola},\n",
    " url = {http://hdl.handle.net/11356/1286},\n",
    " note = {Slovenian language resource repository {CLARIN}.{SI}},\n",
    " copyright = {Creative Commons - Attribution-{ShareAlike} 4.0 International ({CC} {BY}-{SA} 4.0)},\n",
    " year = {2020} }"
   ]
  },
  {
   "cell_type": "markdown",
   "metadata": {},
   "source": [
    "## Preprocessing the context files:"
   ]
  },
  {
   "cell_type": "code",
   "execution_count": 164,
   "metadata": {},
   "outputs": [],
   "source": [
    "from nltk import Text\n",
    "\n",
    "# import text:\n",
    "file1 = Text('../../data/ButalskipolicajInCefizelj_ID_8.txt')\n",
    "file2 = Text('../../data/Premraženo Sonce Slovene only _ID_15.txt')\n",
    "file3 = Text('../../data/Veveriček posebne sorte Special Squirrel_ID_12.txt')\n",
    "\n",
    "# tokenize text:\n"
   ]
  },
  {
   "cell_type": "code",
   "execution_count": 165,
   "metadata": {},
   "outputs": [
    {
     "data": {
      "text/plain": [
       "<Text: . . / . . / d a...>"
      ]
     },
     "execution_count": 165,
     "metadata": {},
     "output_type": "execute_result"
    }
   ],
   "source": [
    "file1"
   ]
  },
  {
   "cell_type": "code",
   "execution_count": 194,
   "metadata": {
    "scrolled": true
   },
   "outputs": [
    {
     "name": "stdout",
     "output_type": "stream",
     "text": [
      "471 2287 295\n"
     ]
    }
   ],
   "source": [
    "import pandas as pd\n",
    "import numpy as np\n",
    "\n",
    "# data = pd.read_excel('../../data/imapBook/AllDiscussionDataCODED_USE_THIS_14Feb2020_MH.xls')\n",
    "# data = data.dropna(axis= 1, how = 'all')\n",
    "# data = data.dropna(axis= 0, how = 'all')\n",
    "# print(np.array(data.columns).reshape(-1,1))\n",
    "\n",
    "# grouping the messages by topic\n",
    "g_data = data.loc[data['Book ID'].isin([8.0, 12.0, 15.0])].groupby('Book ID')\n",
    "g_messages = g_data[['Topic', 'Message', 'Book relevance']]\n",
    "book1 = g_messages.get_group(8.0)\n",
    "book2 =  g_messages.get_group(12.0)\n",
    "book3 =  g_messages.get_group(15.0)\n",
    "\n",
    "print(len(book1),\n",
    "      len(book2),\n",
    "      len(book3))\n",
    "\n",
    "# loading slovene stopwords:\n",
    "SW = pd.read_csv('sloStopWords.txt', sep = '\\n').to_numpy()\n",
    "\n",
    "from nltk import tokenize\n",
    "\n",
    "def tokenize_data(book):\n",
    "    question_tokens = []\n",
    "    text_tokens = []\n",
    "    for ind, message  in enumerate( book[\"Message\"]):\n",
    "#         print(message)\n",
    "        text_tokens.append(tokenize.casual_tokenize(str(message)))\n",
    "        question_tokens.append(tokenize.casual_tokenize(str(book['Topic'].iloc[ind]).split('/')[0]))\n",
    "    return question_tokens,text_tokens\n",
    "\n",
    "from nltk.metrics.distance import edit_distance as Lev\n",
    "\n",
    "def levhenshtein_dist(tokens1, tokens2, SW = None):\n",
    "    d = np.ones(len(tokens1))*np.inf\n",
    "    for i,t1 in enumerate(tokens1):\n",
    "        tmp_dist = 0\n",
    "#         n = 0\n",
    "        for j in t1:\n",
    "            if SW is not None:\n",
    "                if j in SW:\n",
    "                    continue\n",
    "            for k in tokens2[i]:\n",
    "                if SW is not None:\n",
    "                    if k in SW:\n",
    "                        continue\n",
    "                n = max(len(k), len(j))\n",
    "                l = Lev(k,j, substitution_cost=2)\n",
    "                if l <= n/2:\n",
    "                    tmp_dist += 1         \n",
    "        d[i] = tmp_dist\n",
    "        \n",
    "    return d"
   ]
  },
  {
   "cell_type": "code",
   "execution_count": 192,
   "metadata": {},
   "outputs": [
    {
     "data": {
      "text/html": [
       "<div>\n",
       "<style scoped>\n",
       "    .dataframe tbody tr th:only-of-type {\n",
       "        vertical-align: middle;\n",
       "    }\n",
       "\n",
       "    .dataframe tbody tr th {\n",
       "        vertical-align: top;\n",
       "    }\n",
       "\n",
       "    .dataframe thead th {\n",
       "        text-align: right;\n",
       "    }\n",
       "</style>\n",
       "<table border=\"1\" class=\"dataframe\">\n",
       "  <thead>\n",
       "    <tr style=\"text-align: right;\">\n",
       "      <th></th>\n",
       "      <th>0</th>\n",
       "      <th>1</th>\n",
       "    </tr>\n",
       "  </thead>\n",
       "  <tbody>\n",
       "    <tr>\n",
       "      <th>0</th>\n",
       "      <td>1.000000</td>\n",
       "      <td>0.433395</td>\n",
       "    </tr>\n",
       "    <tr>\n",
       "      <th>1</th>\n",
       "      <td>0.433395</td>\n",
       "      <td>1.000000</td>\n",
       "    </tr>\n",
       "  </tbody>\n",
       "</table>\n",
       "</div>"
      ],
      "text/plain": [
       "          0         1\n",
       "0  1.000000  0.433395\n",
       "1  0.433395  1.000000"
      ]
     },
     "execution_count": 192,
     "metadata": {},
     "output_type": "execute_result"
    }
   ],
   "source": [
    "a,b =text2question_ratio(book1)\n",
    "\n",
    "ld = levhenshtein_dist(a,b)\n",
    "label = (book1['Book relevance'].values.reshape(-1,1)== 'Yes').astype(int)\n",
    "df = pd.DataFrame(np.hstack((ld.reshape(-1,1),label)))\n",
    "\n",
    "c = df.corr()\n",
    "c"
   ]
  },
  {
   "cell_type": "code",
   "execution_count": 281,
   "metadata": {},
   "outputs": [
    {
     "data": {
      "text/plain": [
       "array([0., 0., 1., 1., 1., 0., 0., 0., 0., 0., 0., 1., 0., 0., 0., 1., 0.,\n",
       "       0., 0., 0., 0., 0., 0., 0., 0., 0., 1., 1., 0., 0., 0., 0., 0., 0.,\n",
       "       0., 0., 0., 0., 0., 0., 0., 0., 0., 0., 0., 0., 0., 0., 0., 0., 0.,\n",
       "       1., 1., 0., 0., 0., 0., 0., 0., 0., 0., 0., 1., 0., 0., 0., 0., 0.,\n",
       "       0., 0., 0., 0., 0., 0., 0., 0., 1., 0., 0., 1., 0., 0., 0., 0., 0.,\n",
       "       0., 0., 1., 1., 0., 0., 0., 1., 0., 0., 0., 0., 0., 0., 0., 0., 0.,\n",
       "       0., 0., 0., 0., 1., 0., 0., 0., 0., 1., 0., 1., 1., 0., 0., 0., 0.,\n",
       "       0., 1., 0., 1., 0., 0., 0., 0., 1., 0., 1., 1., 0., 0., 0., 1., 0.,\n",
       "       0., 0., 0., 0., 0., 0., 1., 0., 0., 0., 0., 0., 0., 1., 0., 0., 0.,\n",
       "       1., 0., 0., 0., 0., 0., 2., 0., 0., 1., 0., 0., 1., 0., 0., 1., 1.,\n",
       "       0., 2., 0., 0., 0., 0., 0., 0., 0., 1., 1., 1., 0., 0., 0., 0., 1.,\n",
       "       1., 0., 0., 0., 0., 0., 0., 1., 1., 0., 1., 1., 0., 0., 0., 0., 0.,\n",
       "       0., 1., 0., 1., 0., 2., 1., 0., 0., 1., 0., 1., 1., 0., 0., 0., 0.,\n",
       "       1., 0., 0., 0., 0., 0., 0., 0., 0., 0., 0., 0., 0., 1., 0., 0., 0.,\n",
       "       0., 0., 1., 0., 0., 0., 0., 0., 0., 0., 0., 0., 0., 0., 2., 0., 1.,\n",
       "       0., 0., 0., 1., 1., 1., 1., 0., 1., 0., 0., 0., 0., 0., 0., 0., 0.,\n",
       "       0., 0., 0., 0., 0., 0., 0., 0., 0., 0., 0., 0., 1., 0., 0., 0., 0.,\n",
       "       0., 0., 0., 0., 0., 0., 0., 0., 0., 0., 0., 0., 0., 0., 0., 0., 0.,\n",
       "       0., 0., 1., 0., 0., 1., 0., 0., 0., 0., 0., 0., 1., 0., 0., 0., 0.,\n",
       "       0., 0., 0., 0., 0., 0., 0., 0., 0., 0., 2., 0., 2., 0., 0., 1., 0.,\n",
       "       0., 1., 0., 0., 0., 0., 0., 1., 0., 0., 0., 1., 0., 0., 0., 0., 0.,\n",
       "       0., 0., 0., 0., 0., 0., 0., 0., 0., 0., 0., 0., 0., 0., 0., 1., 1.,\n",
       "       1., 0., 1., 0., 0., 1., 0., 1., 1., 0., 0., 0., 0., 0., 0., 0., 1.,\n",
       "       1., 0., 1., 1., 0., 1., 0., 0., 0., 0., 0., 1., 0., 2., 1., 0., 0.,\n",
       "       0., 0., 0., 0., 0., 0., 0., 1., 0., 0., 0., 1., 0., 0., 1., 0., 0.,\n",
       "       0., 0., 0., 0., 0., 0., 0., 0., 1., 1., 1., 0., 0., 1., 0., 0., 0.,\n",
       "       0., 3., 0., 0., 0., 0., 0., 1., 0., 0., 0., 0., 0., 0., 0., 0., 1.,\n",
       "       0., 0., 0., 0., 0., 1., 0., 0., 1., 0., 0., 0.])"
      ]
     },
     "execution_count": 281,
     "metadata": {},
     "output_type": "execute_result"
    }
   ],
   "source": [
    "import string\n",
    "def prop_name_count(tokens, names):\n",
    "    d = np.zeros(len(tokens))\n",
    "    for i,M in enumerate(tokens):\n",
    "        for j in M:\n",
    "            if j.capitalize() in names:\n",
    "                d[i] += 1\n",
    "    return d\n",
    "\n",
    "nms = pd.read_csv('../utils/Slovenska_Imena.txt', sep = ',', header= None).to_numpy()\n",
    "\n",
    "prop_name_count(b, nms)\n"
   ]
  }
 ],
 "metadata": {
  "kernelspec": {
   "display_name": "Python [conda env:NLP] *",
   "language": "python",
   "name": "conda-env-NLP-py"
  },
  "language_info": {
   "codemirror_mode": {
    "name": "ipython",
    "version": 3
   },
   "file_extension": ".py",
   "mimetype": "text/x-python",
   "name": "python",
   "nbconvert_exporter": "python",
   "pygments_lexer": "ipython3",
   "version": "3.7.7"
  }
 },
 "nbformat": 4,
 "nbformat_minor": 4
}
